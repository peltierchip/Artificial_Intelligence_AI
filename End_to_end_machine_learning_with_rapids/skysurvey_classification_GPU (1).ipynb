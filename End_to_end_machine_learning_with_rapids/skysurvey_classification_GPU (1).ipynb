{
 "cells": [
  {
   "cell_type": "code",
   "execution_count": 1,
   "id": "earlier-automation",
   "metadata": {},
   "outputs": [],
   "source": [
    "import numpy as np\n",
    "import matplotlib.pyplot as plt\n",
    "\n",
    "import seaborn as sns\n",
    "import pandas as pd\n",
    "\n",
    "import sklearn\n",
    "\n",
    "from xgboost import XGBClassifier\n",
    "import time\n",
    "import cudf"
   ]
  },
  {
   "cell_type": "code",
   "execution_count": 2,
   "id": "allied-tuner",
   "metadata": {},
   "outputs": [
    {
     "data": {
      "text/html": [
       "<div>\n",
       "<style scoped>\n",
       "    .dataframe tbody tr th:only-of-type {\n",
       "        vertical-align: middle;\n",
       "    }\n",
       "\n",
       "    .dataframe tbody tr th {\n",
       "        vertical-align: top;\n",
       "    }\n",
       "\n",
       "    .dataframe thead th {\n",
       "        text-align: right;\n",
       "    }\n",
       "</style>\n",
       "<table border=\"1\" class=\"dataframe\">\n",
       "  <thead>\n",
       "    <tr style=\"text-align: right;\">\n",
       "      <th></th>\n",
       "      <th>objid</th>\n",
       "      <th>ra</th>\n",
       "      <th>dec</th>\n",
       "      <th>u</th>\n",
       "      <th>g</th>\n",
       "      <th>r</th>\n",
       "      <th>i</th>\n",
       "      <th>z</th>\n",
       "      <th>run</th>\n",
       "      <th>rerun</th>\n",
       "      <th>camcol</th>\n",
       "      <th>field</th>\n",
       "      <th>specobjid</th>\n",
       "      <th>class</th>\n",
       "      <th>redshift</th>\n",
       "      <th>plate</th>\n",
       "      <th>mjd</th>\n",
       "      <th>fiberid</th>\n",
       "    </tr>\n",
       "  </thead>\n",
       "  <tbody>\n",
       "    <tr>\n",
       "      <th>0</th>\n",
       "      <td>1.237650e+18</td>\n",
       "      <td>183.531326</td>\n",
       "      <td>0.089693</td>\n",
       "      <td>19.47406</td>\n",
       "      <td>17.04240</td>\n",
       "      <td>15.94699</td>\n",
       "      <td>15.50342</td>\n",
       "      <td>15.22531</td>\n",
       "      <td>752</td>\n",
       "      <td>301</td>\n",
       "      <td>4</td>\n",
       "      <td>267</td>\n",
       "      <td>3.722360e+18</td>\n",
       "      <td>STAR</td>\n",
       "      <td>-0.000009</td>\n",
       "      <td>3306</td>\n",
       "      <td>54922</td>\n",
       "      <td>491</td>\n",
       "    </tr>\n",
       "    <tr>\n",
       "      <th>1</th>\n",
       "      <td>1.237650e+18</td>\n",
       "      <td>183.598371</td>\n",
       "      <td>0.135285</td>\n",
       "      <td>18.66280</td>\n",
       "      <td>17.21449</td>\n",
       "      <td>16.67637</td>\n",
       "      <td>16.48922</td>\n",
       "      <td>16.39150</td>\n",
       "      <td>752</td>\n",
       "      <td>301</td>\n",
       "      <td>4</td>\n",
       "      <td>267</td>\n",
       "      <td>3.638140e+17</td>\n",
       "      <td>STAR</td>\n",
       "      <td>-0.000055</td>\n",
       "      <td>323</td>\n",
       "      <td>51615</td>\n",
       "      <td>541</td>\n",
       "    </tr>\n",
       "    <tr>\n",
       "      <th>2</th>\n",
       "      <td>1.237650e+18</td>\n",
       "      <td>183.680207</td>\n",
       "      <td>0.126185</td>\n",
       "      <td>19.38298</td>\n",
       "      <td>18.19169</td>\n",
       "      <td>17.47428</td>\n",
       "      <td>17.08732</td>\n",
       "      <td>16.80125</td>\n",
       "      <td>752</td>\n",
       "      <td>301</td>\n",
       "      <td>4</td>\n",
       "      <td>268</td>\n",
       "      <td>3.232740e+17</td>\n",
       "      <td>GALAXY</td>\n",
       "      <td>0.123111</td>\n",
       "      <td>287</td>\n",
       "      <td>52023</td>\n",
       "      <td>513</td>\n",
       "    </tr>\n",
       "    <tr>\n",
       "      <th>3</th>\n",
       "      <td>1.237650e+18</td>\n",
       "      <td>183.870529</td>\n",
       "      <td>0.049911</td>\n",
       "      <td>17.76536</td>\n",
       "      <td>16.60272</td>\n",
       "      <td>16.16116</td>\n",
       "      <td>15.98233</td>\n",
       "      <td>15.90438</td>\n",
       "      <td>752</td>\n",
       "      <td>301</td>\n",
       "      <td>4</td>\n",
       "      <td>269</td>\n",
       "      <td>3.722370e+18</td>\n",
       "      <td>STAR</td>\n",
       "      <td>-0.000111</td>\n",
       "      <td>3306</td>\n",
       "      <td>54922</td>\n",
       "      <td>510</td>\n",
       "    </tr>\n",
       "    <tr>\n",
       "      <th>4</th>\n",
       "      <td>1.237650e+18</td>\n",
       "      <td>183.883288</td>\n",
       "      <td>0.102557</td>\n",
       "      <td>17.55025</td>\n",
       "      <td>16.26342</td>\n",
       "      <td>16.43869</td>\n",
       "      <td>16.55492</td>\n",
       "      <td>16.61326</td>\n",
       "      <td>752</td>\n",
       "      <td>301</td>\n",
       "      <td>4</td>\n",
       "      <td>269</td>\n",
       "      <td>3.722370e+18</td>\n",
       "      <td>STAR</td>\n",
       "      <td>0.000590</td>\n",
       "      <td>3306</td>\n",
       "      <td>54922</td>\n",
       "      <td>512</td>\n",
       "    </tr>\n",
       "  </tbody>\n",
       "</table>\n",
       "</div>"
      ],
      "text/plain": [
       "          objid          ra       dec         u         g         r         i  \\\n",
       "0  1.237650e+18  183.531326  0.089693  19.47406  17.04240  15.94699  15.50342   \n",
       "1  1.237650e+18  183.598371  0.135285  18.66280  17.21449  16.67637  16.48922   \n",
       "2  1.237650e+18  183.680207  0.126185  19.38298  18.19169  17.47428  17.08732   \n",
       "3  1.237650e+18  183.870529  0.049911  17.76536  16.60272  16.16116  15.98233   \n",
       "4  1.237650e+18  183.883288  0.102557  17.55025  16.26342  16.43869  16.55492   \n",
       "\n",
       "          z  run  rerun  camcol  field     specobjid   class  redshift  plate  \\\n",
       "0  15.22531  752    301       4    267  3.722360e+18    STAR -0.000009   3306   \n",
       "1  16.39150  752    301       4    267  3.638140e+17    STAR -0.000055    323   \n",
       "2  16.80125  752    301       4    268  3.232740e+17  GALAXY  0.123111    287   \n",
       "3  15.90438  752    301       4    269  3.722370e+18    STAR -0.000111   3306   \n",
       "4  16.61326  752    301       4    269  3.722370e+18    STAR  0.000590   3306   \n",
       "\n",
       "     mjd  fiberid  \n",
       "0  54922      491  \n",
       "1  51615      541  \n",
       "2  52023      513  \n",
       "3  54922      510  \n",
       "4  54922      512  "
      ]
     },
     "execution_count": 2,
     "metadata": {},
     "output_type": "execute_result"
    }
   ],
   "source": [
    "sdss_df = cudf.read_csv('./data/Skyserver_SQL2_27_2018 6_51_39 PM.csv', skiprows=0)\n",
    "sdss_df.head()"
   ]
  },
  {
   "cell_type": "code",
   "execution_count": 3,
   "id": "thermal-stake",
   "metadata": {},
   "outputs": [
    {
     "data": {
      "text/html": [
       "<div>\n",
       "<style scoped>\n",
       "    .dataframe tbody tr th:only-of-type {\n",
       "        vertical-align: middle;\n",
       "    }\n",
       "\n",
       "    .dataframe tbody tr th {\n",
       "        vertical-align: top;\n",
       "    }\n",
       "\n",
       "    .dataframe thead th {\n",
       "        text-align: right;\n",
       "    }\n",
       "</style>\n",
       "<table border=\"1\" class=\"dataframe\">\n",
       "  <thead>\n",
       "    <tr style=\"text-align: right;\">\n",
       "      <th></th>\n",
       "      <th>ra</th>\n",
       "      <th>dec</th>\n",
       "      <th>u</th>\n",
       "      <th>g</th>\n",
       "      <th>r</th>\n",
       "      <th>i</th>\n",
       "      <th>z</th>\n",
       "      <th>class</th>\n",
       "      <th>redshift</th>\n",
       "      <th>plate</th>\n",
       "      <th>mjd</th>\n",
       "      <th>fiberid</th>\n",
       "    </tr>\n",
       "  </thead>\n",
       "  <tbody>\n",
       "    <tr>\n",
       "      <th>0</th>\n",
       "      <td>183.531326</td>\n",
       "      <td>0.089693</td>\n",
       "      <td>19.47406</td>\n",
       "      <td>17.04240</td>\n",
       "      <td>15.94699</td>\n",
       "      <td>15.50342</td>\n",
       "      <td>15.22531</td>\n",
       "      <td>STAR</td>\n",
       "      <td>-0.000009</td>\n",
       "      <td>3306</td>\n",
       "      <td>54922</td>\n",
       "      <td>491</td>\n",
       "    </tr>\n",
       "    <tr>\n",
       "      <th>1</th>\n",
       "      <td>183.598371</td>\n",
       "      <td>0.135285</td>\n",
       "      <td>18.66280</td>\n",
       "      <td>17.21449</td>\n",
       "      <td>16.67637</td>\n",
       "      <td>16.48922</td>\n",
       "      <td>16.39150</td>\n",
       "      <td>STAR</td>\n",
       "      <td>-0.000055</td>\n",
       "      <td>323</td>\n",
       "      <td>51615</td>\n",
       "      <td>541</td>\n",
       "    </tr>\n",
       "    <tr>\n",
       "      <th>2</th>\n",
       "      <td>183.680207</td>\n",
       "      <td>0.126185</td>\n",
       "      <td>19.38298</td>\n",
       "      <td>18.19169</td>\n",
       "      <td>17.47428</td>\n",
       "      <td>17.08732</td>\n",
       "      <td>16.80125</td>\n",
       "      <td>GALAXY</td>\n",
       "      <td>0.123111</td>\n",
       "      <td>287</td>\n",
       "      <td>52023</td>\n",
       "      <td>513</td>\n",
       "    </tr>\n",
       "    <tr>\n",
       "      <th>3</th>\n",
       "      <td>183.870529</td>\n",
       "      <td>0.049911</td>\n",
       "      <td>17.76536</td>\n",
       "      <td>16.60272</td>\n",
       "      <td>16.16116</td>\n",
       "      <td>15.98233</td>\n",
       "      <td>15.90438</td>\n",
       "      <td>STAR</td>\n",
       "      <td>-0.000111</td>\n",
       "      <td>3306</td>\n",
       "      <td>54922</td>\n",
       "      <td>510</td>\n",
       "    </tr>\n",
       "    <tr>\n",
       "      <th>4</th>\n",
       "      <td>183.883288</td>\n",
       "      <td>0.102557</td>\n",
       "      <td>17.55025</td>\n",
       "      <td>16.26342</td>\n",
       "      <td>16.43869</td>\n",
       "      <td>16.55492</td>\n",
       "      <td>16.61326</td>\n",
       "      <td>STAR</td>\n",
       "      <td>0.000590</td>\n",
       "      <td>3306</td>\n",
       "      <td>54922</td>\n",
       "      <td>512</td>\n",
       "    </tr>\n",
       "  </tbody>\n",
       "</table>\n",
       "</div>"
      ],
      "text/plain": [
       "           ra       dec         u         g         r         i         z  \\\n",
       "0  183.531326  0.089693  19.47406  17.04240  15.94699  15.50342  15.22531   \n",
       "1  183.598371  0.135285  18.66280  17.21449  16.67637  16.48922  16.39150   \n",
       "2  183.680207  0.126185  19.38298  18.19169  17.47428  17.08732  16.80125   \n",
       "3  183.870529  0.049911  17.76536  16.60272  16.16116  15.98233  15.90438   \n",
       "4  183.883288  0.102557  17.55025  16.26342  16.43869  16.55492  16.61326   \n",
       "\n",
       "    class  redshift  plate    mjd  fiberid  \n",
       "0    STAR -0.000009   3306  54922      491  \n",
       "1    STAR -0.000055    323  51615      541  \n",
       "2  GALAXY  0.123111    287  52023      513  \n",
       "3    STAR -0.000111   3306  54922      510  \n",
       "4    STAR  0.000590   3306  54922      512  "
      ]
     },
     "execution_count": 3,
     "metadata": {},
     "output_type": "execute_result"
    }
   ],
   "source": [
    "sdss_df.drop(['objid', 'run', 'rerun', 'camcol', 'field', 'specobjid'], axis=1, inplace=True)\n",
    "sdss_df.head()"
   ]
  },
  {
   "cell_type": "code",
   "execution_count": 4,
   "id": "dense-group",
   "metadata": {},
   "outputs": [
    {
     "name": "stdout",
     "output_type": "stream",
     "text": [
      "<class 'cudf.core.dataframe.DataFrame'>\n",
      "RangeIndex: 10000 entries, 0 to 9999\n",
      "Data columns (total 12 columns):\n",
      " #   Column    Non-Null Count  Dtype\n",
      "---  ------    --------------  -----\n",
      " 0   ra        10000 non-null  float64\n",
      " 1   dec       10000 non-null  float64\n",
      " 2   u         10000 non-null  float64\n",
      " 3   g         10000 non-null  float64\n",
      " 4   r         10000 non-null  float64\n",
      " 5   i         10000 non-null  float64\n",
      " 6   z         10000 non-null  float64\n",
      " 7   class     10000 non-null  object\n",
      " 8   redshift  10000 non-null  float64\n",
      " 9   plate     10000 non-null  int64\n",
      " 10  mjd       10000 non-null  int64\n",
      " 11  fiberid   10000 non-null  int64\n",
      "dtypes: float64(8), int64(3), object(1)\n",
      "memory usage: 946.4+ KB\n"
     ]
    }
   ],
   "source": [
    "sdss_df.info()"
   ]
  },
  {
   "cell_type": "code",
   "execution_count": 5,
   "id": "organizational-trauma",
   "metadata": {},
   "outputs": [],
   "source": [
    "df_cols = list(sdss_df.columns)\n",
    "df_cols.remove(\"class\")\n",
    "\n",
    "convert_data_type = {}\n",
    "\n",
    "for col in df_cols:\n",
    "    convert_data_type[col] = \"float32\"\n",
    "\n",
    "    convert_data_type"
   ]
  },
  {
   "cell_type": "code",
   "execution_count": 6,
   "id": "stone-slave",
   "metadata": {},
   "outputs": [],
   "source": [
    "sdss_df = sdss_df.astype(convert_data_type, copy=False)"
   ]
  },
  {
   "cell_type": "code",
   "execution_count": 7,
   "id": "ancient-nylon",
   "metadata": {},
   "outputs": [
    {
     "name": "stdout",
     "output_type": "stream",
     "text": [
      "<class 'cudf.core.dataframe.DataFrame'>\n",
      "RangeIndex: 10000 entries, 0 to 9999\n",
      "Data columns (total 12 columns):\n",
      " #   Column    Non-Null Count  Dtype\n",
      "---  ------    --------------  -----\n",
      " 0   ra        10000 non-null  float32\n",
      " 1   dec       10000 non-null  float32\n",
      " 2   u         10000 non-null  float32\n",
      " 3   g         10000 non-null  float32\n",
      " 4   r         10000 non-null  float32\n",
      " 5   i         10000 non-null  float32\n",
      " 6   z         10000 non-null  float32\n",
      " 7   class     10000 non-null  object\n",
      " 8   redshift  10000 non-null  float32\n",
      " 9   plate     10000 non-null  float32\n",
      " 10  mjd       10000 non-null  float32\n",
      " 11  fiberid   10000 non-null  float32\n",
      "dtypes: float32(11), object(1)\n",
      "memory usage: 516.7+ KB\n"
     ]
    }
   ],
   "source": [
    "sdss_df.info()"
   ]
  },
  {
   "cell_type": "markdown",
   "id": "temporal-nepal",
   "metadata": {},
   "source": [
    "objid and specobjid are just identifiers for accessing the rows back when they were stored in the original databank. Therefore we will not need them for classification as they are not related to the outcome.\n",
    "\n",
    "Even more: The features 'run', 'rerun', 'camcol' and 'field' are values which describe parts of the camera at the moment when making the observation, e.g. 'run' represents the corresponding scan which captured the oject.\n",
    "\n",
    "We will drop these columns as any correlation to the outcome would be coincidentally.\n",
    "\n",
    "Source: http://www.sdss3.org/dr9/imaging/imaging_basics.php"
   ]
  },
  {
   "cell_type": "code",
   "execution_count": 8,
   "id": "consecutive-discount",
   "metadata": {},
   "outputs": [
    {
     "data": {
      "text/html": [
       "<div>\n",
       "<style scoped>\n",
       "    .dataframe tbody tr th:only-of-type {\n",
       "        vertical-align: middle;\n",
       "    }\n",
       "\n",
       "    .dataframe tbody tr th {\n",
       "        vertical-align: top;\n",
       "    }\n",
       "\n",
       "    .dataframe thead th {\n",
       "        text-align: right;\n",
       "    }\n",
       "</style>\n",
       "<table border=\"1\" class=\"dataframe\">\n",
       "  <thead>\n",
       "    <tr style=\"text-align: right;\">\n",
       "      <th></th>\n",
       "      <th>ra</th>\n",
       "      <th>dec</th>\n",
       "      <th>u</th>\n",
       "      <th>g</th>\n",
       "      <th>r</th>\n",
       "      <th>i</th>\n",
       "      <th>z</th>\n",
       "      <th>class</th>\n",
       "      <th>redshift</th>\n",
       "      <th>plate</th>\n",
       "      <th>mjd</th>\n",
       "      <th>fiberid</th>\n",
       "    </tr>\n",
       "  </thead>\n",
       "  <tbody>\n",
       "    <tr>\n",
       "      <th>0</th>\n",
       "      <td>183.531326</td>\n",
       "      <td>0.089693</td>\n",
       "      <td>19.474060</td>\n",
       "      <td>17.042400</td>\n",
       "      <td>15.946990</td>\n",
       "      <td>15.50342</td>\n",
       "      <td>15.22531</td>\n",
       "      <td>2</td>\n",
       "      <td>-0.000009</td>\n",
       "      <td>3306.0</td>\n",
       "      <td>54922.0</td>\n",
       "      <td>491.0</td>\n",
       "    </tr>\n",
       "    <tr>\n",
       "      <th>1</th>\n",
       "      <td>183.598373</td>\n",
       "      <td>0.135285</td>\n",
       "      <td>18.662800</td>\n",
       "      <td>17.214491</td>\n",
       "      <td>16.676371</td>\n",
       "      <td>16.48922</td>\n",
       "      <td>16.39150</td>\n",
       "      <td>2</td>\n",
       "      <td>-0.000055</td>\n",
       "      <td>323.0</td>\n",
       "      <td>51615.0</td>\n",
       "      <td>541.0</td>\n",
       "    </tr>\n",
       "    <tr>\n",
       "      <th>2</th>\n",
       "      <td>183.680206</td>\n",
       "      <td>0.126185</td>\n",
       "      <td>19.382980</td>\n",
       "      <td>18.191690</td>\n",
       "      <td>17.474279</td>\n",
       "      <td>17.08732</td>\n",
       "      <td>16.80125</td>\n",
       "      <td>0</td>\n",
       "      <td>0.123111</td>\n",
       "      <td>287.0</td>\n",
       "      <td>52023.0</td>\n",
       "      <td>513.0</td>\n",
       "    </tr>\n",
       "    <tr>\n",
       "      <th>3</th>\n",
       "      <td>183.870529</td>\n",
       "      <td>0.049911</td>\n",
       "      <td>17.765360</td>\n",
       "      <td>16.602720</td>\n",
       "      <td>16.161160</td>\n",
       "      <td>15.98233</td>\n",
       "      <td>15.90438</td>\n",
       "      <td>2</td>\n",
       "      <td>-0.000111</td>\n",
       "      <td>3306.0</td>\n",
       "      <td>54922.0</td>\n",
       "      <td>510.0</td>\n",
       "    </tr>\n",
       "    <tr>\n",
       "      <th>4</th>\n",
       "      <td>183.883286</td>\n",
       "      <td>0.102557</td>\n",
       "      <td>17.550249</td>\n",
       "      <td>16.263420</td>\n",
       "      <td>16.438690</td>\n",
       "      <td>16.55492</td>\n",
       "      <td>16.61326</td>\n",
       "      <td>2</td>\n",
       "      <td>0.000590</td>\n",
       "      <td>3306.0</td>\n",
       "      <td>54922.0</td>\n",
       "      <td>512.0</td>\n",
       "    </tr>\n",
       "  </tbody>\n",
       "</table>\n",
       "</div>"
      ],
      "text/plain": [
       "           ra       dec          u          g          r         i         z  \\\n",
       "0  183.531326  0.089693  19.474060  17.042400  15.946990  15.50342  15.22531   \n",
       "1  183.598373  0.135285  18.662800  17.214491  16.676371  16.48922  16.39150   \n",
       "2  183.680206  0.126185  19.382980  18.191690  17.474279  17.08732  16.80125   \n",
       "3  183.870529  0.049911  17.765360  16.602720  16.161160  15.98233  15.90438   \n",
       "4  183.883286  0.102557  17.550249  16.263420  16.438690  16.55492  16.61326   \n",
       "\n",
       "   class  redshift   plate      mjd  fiberid  \n",
       "0      2 -0.000009  3306.0  54922.0    491.0  \n",
       "1      2 -0.000055   323.0  51615.0    541.0  \n",
       "2      0  0.123111   287.0  52023.0    513.0  \n",
       "3      2 -0.000111  3306.0  54922.0    510.0  \n",
       "4      2  0.000590  3306.0  54922.0    512.0  "
      ]
     },
     "execution_count": 8,
     "metadata": {},
     "output_type": "execute_result"
    }
   ],
   "source": [
    "import cuml\n",
    "le = cuml.preprocessing.LabelEncoder()\n",
    "\n",
    "# encode class labels to integers\n",
    "y_encoded = le.fit_transform(sdss_df['class'])\n",
    "sdss_df['class'] = y_encoded\n",
    "\n",
    "sdss_df.head()"
   ]
  },
  {
   "cell_type": "markdown",
   "id": "extraordinary-softball",
   "metadata": {},
   "source": [
    "## Data Normalization (scaling)"
   ]
  },
  {
   "cell_type": "code",
   "execution_count": 9,
   "id": "nominated-orbit",
   "metadata": {},
   "outputs": [],
   "source": [
    "#from sklearn import preprocessing\n",
    "scaler = cuml.preprocessing.MinMaxScaler()"
   ]
  },
  {
   "cell_type": "code",
   "execution_count": 10,
   "id": "legal-devon",
   "metadata": {},
   "outputs": [],
   "source": [
    "sdss = scaler.fit_transform(sdss_df.drop('class', axis=1))"
   ]
  },
  {
   "cell_type": "code",
   "execution_count": 84,
   "id": "duplicate-allocation",
   "metadata": {},
   "outputs": [],
   "source": [
    "X_train, X_test, y_train, y_test = cuml.model_selection.train_test_split(sdss, sdss_df['class'], test_size=0.1)"
   ]
  },
  {
   "cell_type": "markdown",
   "id": "communist-doubt",
   "metadata": {},
   "source": [
    "## KNN"
   ]
  },
  {
   "cell_type": "code",
   "execution_count": 12,
   "id": "expressed-maria",
   "metadata": {},
   "outputs": [],
   "source": [
    "knn = cuml.neighbors.KNeighborsClassifier()"
   ]
  },
  {
   "cell_type": "code",
   "execution_count": 13,
   "id": "spanish-appearance",
   "metadata": {},
   "outputs": [],
   "source": [
    "training_start = time.perf_counter()\n",
    "knn.fit(X_train, y_train)\n",
    "training_end = time.perf_counter()\n",
    "prediction_start = time.perf_counter()\n",
    "preds = knn.predict(X_test)\n",
    "prediction_end = time.perf_counter()\n",
    "preds = preds\n",
    "acc_knn = (preds == y_test).sum().astype(float) / len(preds)*100\n",
    "knn_train_time = training_end-training_start\n",
    "knn_prediction_time = prediction_end-prediction_start"
   ]
  },
  {
   "cell_type": "code",
   "execution_count": 14,
   "id": "alert-commitment",
   "metadata": {},
   "outputs": [
    {
     "name": "stdout",
     "output_type": "stream",
     "text": [
      "Scikit-Learn's K Nearest Neighbors Classifier's prediction accuracy is: 90.30\n",
      "Time consumed for training: 1.249 seconds\n",
      "Time consumed for prediction: 0.64266 seconds\n"
     ]
    }
   ],
   "source": [
    "print(\"Scikit-Learn's K Nearest Neighbors Classifier's prediction accuracy is: %3.2f\" % (acc_knn))\n",
    "print(\"Time consumed for training: %4.3f seconds\" % (knn_train_time))\n",
    "print(\"Time consumed for prediction: %6.5f seconds\" % (knn_prediction_time))"
   ]
  },
  {
   "cell_type": "markdown",
   "id": "hearing-pierce",
   "metadata": {},
   "source": [
    "## Random Forest Classifier"
   ]
  },
  {
   "cell_type": "code",
   "execution_count": 15,
   "id": "tender-webmaster",
   "metadata": {},
   "outputs": [],
   "source": [
    "rfc = cuml.ensemble.RandomForestClassifier(n_estimators=100)"
   ]
  },
  {
   "cell_type": "code",
   "execution_count": 16,
   "id": "outdoor-mailman",
   "metadata": {},
   "outputs": [],
   "source": [
    "training_start = time.perf_counter()\n",
    "rfc.fit(X_train, y_train)\n",
    "training_end = time.perf_counter()\n",
    "prediction_start = time.perf_counter()\n",
    "preds = rfc.predict(X_test)\n",
    "prediction_end = time.perf_counter()\n",
    "preds = preds\n",
    "acc_rfc = (preds == y_test).sum().astype(float) / len(preds)*100\n",
    "rfc_train_time = training_end-training_start\n",
    "rfc_prediction_time = prediction_end-prediction_start"
   ]
  },
  {
   "cell_type": "code",
   "execution_count": 17,
   "id": "analyzed-swaziland",
   "metadata": {},
   "outputs": [
    {
     "name": "stdout",
     "output_type": "stream",
     "text": [
      "Scikit-Learn's Random Forest Classifier's prediction accuracy is: 98.60\n",
      "Time consumed for training: 0.759 seconds\n",
      "Time consumed for prediction: 0.59565 seconds\n"
     ]
    }
   ],
   "source": [
    "print(\"Scikit-Learn's Random Forest Classifier's prediction accuracy is: %3.2f\" % (acc_rfc))\n",
    "print(\"Time consumed for training: %4.3f seconds\" % (rfc_train_time))\n",
    "print(\"Time consumed for prediction: %6.5f seconds\" % (rfc_prediction_time))"
   ]
  },
  {
   "cell_type": "markdown",
   "id": "eastern-interval",
   "metadata": {},
   "source": [
    "## XGBoost"
   ]
  },
  {
   "cell_type": "code",
   "execution_count": 86,
   "id": "plastic-pillow",
   "metadata": {},
   "outputs": [],
   "source": [
    "xgb = XGBClassifier(n_estimators=100, tree_method=\"gpu_hist\", use_label_encoder=False)"
   ]
  },
  {
   "cell_type": "code",
   "execution_count": 87,
   "id": "behavioral-minute",
   "metadata": {},
   "outputs": [
    {
     "name": "stdout",
     "output_type": "stream",
     "text": [
      "[07:46:08] WARNING: /opt/conda/envs/rapids/conda-bld/xgboost_1643825494080/work/src/learner.cc:1115: Starting in XGBoost 1.3.0, the default evaluation metric used with the objective 'multi:softprob' was changed from 'merror' to 'mlogloss'. Explicitly set eval_metric if you'd like to restore the old behavior.\n"
     ]
    }
   ],
   "source": [
    "training_start = time.perf_counter()\n",
    "xgb.fit(X_train, y_train)\n",
    "training_end = time.perf_counter()\n",
    "prediction_start = time.perf_counter()\n",
    "preds = xgb.predict(X_test)\n",
    "prediction_end = time.perf_counter()\n",
    "acc_xgb = (preds == y_test).sum().astype(float) / len(preds)*100\n",
    "xgb_train_time = training_end-training_start\n",
    "xgb_prediction_time = prediction_end-prediction_start"
   ]
  },
  {
   "cell_type": "code",
   "execution_count": 88,
   "id": "fourth-sandwich",
   "metadata": {},
   "outputs": [
    {
     "name": "stdout",
     "output_type": "stream",
     "text": [
      "XGBoost's prediction accuracy is: 98.70\n",
      "Time consumed for training: 0.410\n",
      "Time consumed for prediction: 0.00868 seconds\n"
     ]
    }
   ],
   "source": [
    "print(\"XGBoost's prediction accuracy is: %3.2f\" % (acc_xgb))\n",
    "print(\"Time consumed for training: %4.3f\" % (xgb_train_time))\n",
    "print(\"Time consumed for prediction: %6.5f seconds\" % (xgb_prediction_time))"
   ]
  },
  {
   "cell_type": "markdown",
   "id": "95b770e4-615e-49a7-9ee5-abbf94f29d7e",
   "metadata": {},
   "source": [
    "## Logistic Regression"
   ]
  },
  {
   "cell_type": "code",
   "execution_count": 122,
   "id": "fc41d8ae-456b-458c-b299-cdefdd1a5f53",
   "metadata": {},
   "outputs": [
    {
     "name": "stdout",
     "output_type": "stream",
     "text": [
      "Logistic Regression's prediction accuracy is: 89.10\n",
      "Time consumed for training: 0.073 seconds\n",
      "Time consumed for prediction: 0.00308 seconds\n"
     ]
    }
   ],
   "source": [
    "from cuml.linear_model.logistic_regression import LogisticRegression\n",
    "lr=LogisticRegression()\n",
    "lr.fit(X_train,y_train)\n",
    "training_start = time.perf_counter()\n",
    "lr.fit(X_train, y_train)\n",
    "training_end = time.perf_counter()\n",
    "prediction_start = time.perf_counter()\n",
    "preds = lr.predict(X_test)\n",
    "prediction_end = time.perf_counter()\n",
    "acc_lr = (preds == y_test).sum().astype(float) / len(preds)*100\n",
    "lr_train_time = training_end-training_start\n",
    "lr_prediction_time = prediction_end-prediction_start\n",
    "\n",
    "print(\"Logistic Regression's prediction accuracy is: %3.2f\" % (acc_lr))\n",
    "print(\"Time consumed for training: %4.3f seconds\" % (lr_train_time))\n",
    "print(\"Time consumed for prediction: %6.5f seconds\" % (lr_prediction_time))"
   ]
  },
  {
   "cell_type": "code",
   "execution_count": 123,
   "id": "297a5fc1-dc09-4e1d-a6be-ab972ebad6a6",
   "metadata": {},
   "outputs": [
    {
     "data": {
      "text/html": [
       "<div>\n",
       "<style scoped>\n",
       "    .dataframe tbody tr th:only-of-type {\n",
       "        vertical-align: middle;\n",
       "    }\n",
       "\n",
       "    .dataframe tbody tr th {\n",
       "        vertical-align: top;\n",
       "    }\n",
       "\n",
       "    .dataframe thead th {\n",
       "        text-align: right;\n",
       "    }\n",
       "</style>\n",
       "<table border=\"1\" class=\"dataframe\">\n",
       "  <thead>\n",
       "    <tr style=\"text-align: right;\">\n",
       "      <th></th>\n",
       "      <th>Score</th>\n",
       "      <th>Runtime Training</th>\n",
       "      <th>Runtime Prediction</th>\n",
       "    </tr>\n",
       "    <tr>\n",
       "      <th>Model</th>\n",
       "      <th></th>\n",
       "      <th></th>\n",
       "      <th></th>\n",
       "    </tr>\n",
       "  </thead>\n",
       "  <tbody>\n",
       "    <tr>\n",
       "      <th>XGBoost</th>\n",
       "      <td>98.7</td>\n",
       "      <td>0.410075</td>\n",
       "      <td>0.008675</td>\n",
       "    </tr>\n",
       "    <tr>\n",
       "      <th>Random Forest</th>\n",
       "      <td>98.6</td>\n",
       "      <td>0.759215</td>\n",
       "      <td>0.595646</td>\n",
       "    </tr>\n",
       "    <tr>\n",
       "      <th>KNN</th>\n",
       "      <td>90.3</td>\n",
       "      <td>1.249325</td>\n",
       "      <td>0.642659</td>\n",
       "    </tr>\n",
       "    <tr>\n",
       "      <th>Logistic Regression</th>\n",
       "      <td>89.1</td>\n",
       "      <td>0.073388</td>\n",
       "      <td>0.003076</td>\n",
       "    </tr>\n",
       "  </tbody>\n",
       "</table>\n",
       "</div>"
      ],
      "text/plain": [
       "                     Score  Runtime Training  Runtime Prediction\n",
       "Model                                                           \n",
       "XGBoost               98.7          0.410075            0.008675\n",
       "Random Forest         98.6          0.759215            0.595646\n",
       "KNN                   90.3          1.249325            0.642659\n",
       "Logistic Regression   89.1          0.073388            0.003076"
      ]
     },
     "execution_count": 123,
     "metadata": {},
     "output_type": "execute_result"
    }
   ],
   "source": [
    "results = cudf.DataFrame({\n",
    "    'Model': ['KNN', \n",
    "              'XGBoost', 'Random Forest','Logistic Regression'],\n",
    "    'Score': [acc_knn, acc_xgb, acc_rfc,acc_lr],\n",
    "    'Runtime Training': [knn_train_time, xgb_train_time, rfc_train_time,lr_train_time],\n",
    "    'Runtime Prediction': [knn_prediction_time, xgb_prediction_time, rfc_prediction_time,lr_prediction_time]})\n",
    "result_df = results.sort_values(by='Score', ascending=False)\n",
    "result_df = result_df.set_index('Model')\n",
    "result_df"
   ]
  },
  {
   "cell_type": "markdown",
   "id": "8a374a5b",
   "metadata": {},
   "source": [
    "\n",
    "<br>\n",
    "<div align=\"center\"><h2>Conclusion on GPU model classification</h2></div>\n",
    "\n",
    "\n",
    "XGBoost and Random Forest Classifier could achieve very high accuracy.As expected, there's a huge improvement in Runtime Training, however it took slightly longer Runtime Prediction.\n",
    "Logistic Regression is best in terms of runtime training. Therefore, if we have a lot of rows of data, we should consider using it. \n",
    "\n",
    "From this, we can see after GPU Convert to run on GPU, we are able to reduce the runtime training as compared to using CPU.(A few times in order of reduction) However, runtime prediction might not see that much of a jump. \n",
    "In conclusion, XGBoost is the best in terms of score for both CPU and GPU. \n"
   ]
  },
  {
   "cell_type": "markdown",
   "id": "9d4c2fd8-69e7-4eb5-8efb-7c531755dd34",
   "metadata": {},
   "source": [
    "<br>\n",
    "<div align=\"center\"><h2>Please Restart the Kernel</h2></div>"
   ]
  },
  {
   "cell_type": "code",
   "execution_count": 66,
   "id": "316835b9-bcba-47aa-a624-f0d24aac8beb",
   "metadata": {},
   "outputs": [],
   "source": [
    "#import IPython\n",
    "#app = IPython.Application.instance()\n",
    "#app.kernel.do_shutdown(True)"
   ]
  },
  {
   "cell_type": "code",
   "execution_count": null,
   "id": "4a1e6cf4-2157-4682-a0ba-a075b9683fa0",
   "metadata": {},
   "outputs": [],
   "source": []
  }
 ],
 "metadata": {
  "kernelspec": {
   "display_name": "Python 3 (ipykernel)",
   "language": "python",
   "name": "python3"
  },
  "language_info": {
   "codemirror_mode": {
    "name": "ipython",
    "version": 3
   },
   "file_extension": ".py",
   "mimetype": "text/x-python",
   "name": "python",
   "nbconvert_exporter": "python",
   "pygments_lexer": "ipython3",
   "version": "3.9.10"
  }
 },
 "nbformat": 4,
 "nbformat_minor": 5
}

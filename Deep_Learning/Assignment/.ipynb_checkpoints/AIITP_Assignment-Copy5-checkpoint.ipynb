{
 "cells": [
  {
   "cell_type": "markdown",
   "id": "bb42a365",
   "metadata": {},
   "source": [
    "Using the Sonar dataset (Link), develop an ANN model to classify the 60 sonar readings to two classes, Rocks and Mines"
   ]
  },
  {
   "cell_type": "markdown",
   "id": "a8d532ab",
   "metadata": {},
   "source": [
    "Load the required Libraries and import the dataset which is a CSV file. "
   ]
  },
  {
   "cell_type": "code",
   "execution_count": 1,
   "id": "7bbd5e2f",
   "metadata": {},
   "outputs": [
    {
     "name": "stdout",
     "output_type": "stream",
     "text": [
      "Data shape: (208, 61)\n"
     ]
    }
   ],
   "source": [
    "import pandas as pd\n",
    "import numpy as np\n",
    "import numpy.random as nr\n",
    "#from keras import models\n",
    "#from keras import layers\n",
    "import tensorflow as tf\n",
    "from sklearn.preprocessing import StandardScaler\n",
    "from sklearn.preprocessing import MinMaxScaler\n",
    "from sklearn.model_selection import train_test_split\n",
    "from tensorflow.keras import regularizers\n",
    "from tensorflow.keras.models import Sequential\n",
    "from tensorflow.keras.layers import Dense\n",
    "\n",
    "# Import the data using the file path\n",
    "data = pd.read_csv('dataset_40_sonar.csv', sep=',')\n",
    "print('Data shape: {}'.format(data.shape))"
   ]
  },
  {
   "cell_type": "code",
   "execution_count": 2,
   "id": "cfb45881",
   "metadata": {},
   "outputs": [
    {
     "data": {
      "text/plain": [
       "True"
      ]
     },
     "execution_count": 2,
     "metadata": {},
     "output_type": "execute_result"
    }
   ],
   "source": [
    "import tensorflow as tf\n",
    "tf.test.is_built_with_cuda()"
   ]
  },
  {
   "cell_type": "code",
   "execution_count": 3,
   "id": "b9444491",
   "metadata": {},
   "outputs": [
    {
     "name": "stdout",
     "output_type": "stream",
     "text": [
      "2.8.0\n"
     ]
    }
   ],
   "source": [
    "print(tf.__version__)"
   ]
  },
  {
   "cell_type": "code",
   "execution_count": 4,
   "id": "0b371cd2",
   "metadata": {},
   "outputs": [
    {
     "data": {
      "text/plain": [
       "[PhysicalDevice(name='/physical_device:CPU:0', device_type='CPU')]"
      ]
     },
     "execution_count": 4,
     "metadata": {},
     "output_type": "execute_result"
    }
   ],
   "source": [
    "import tensorflow as tf\n",
    "\n",
    "tf.config.list_physical_devices()"
   ]
  },
  {
   "cell_type": "code",
   "execution_count": 5,
   "id": "27619f0a",
   "metadata": {},
   "outputs": [
    {
     "name": "stdout",
     "output_type": "stream",
     "text": [
      "['/device:CPU:0']\n"
     ]
    }
   ],
   "source": [
    "from tensorflow.python.client import device_lib\n",
    "def get_available_devices():\n",
    "    local_device_protos = device_lib.list_local_devices()\n",
    "    return [x.name for x in local_device_protos]\n",
    "print(get_available_devices()) "
   ]
  },
  {
   "cell_type": "markdown",
   "id": "02243d6e",
   "metadata": {},
   "source": [
    "Check the datashape to numbers of rows and columns "
   ]
  },
  {
   "cell_type": "code",
   "execution_count": 6,
   "id": "8b8db2aa",
   "metadata": {
    "scrolled": true
   },
   "outputs": [
    {
     "data": {
      "text/html": [
       "<div>\n",
       "<style scoped>\n",
       "    .dataframe tbody tr th:only-of-type {\n",
       "        vertical-align: middle;\n",
       "    }\n",
       "\n",
       "    .dataframe tbody tr th {\n",
       "        vertical-align: top;\n",
       "    }\n",
       "\n",
       "    .dataframe thead th {\n",
       "        text-align: right;\n",
       "    }\n",
       "</style>\n",
       "<table border=\"1\" class=\"dataframe\">\n",
       "  <thead>\n",
       "    <tr style=\"text-align: right;\">\n",
       "      <th></th>\n",
       "      <th>attribute_1</th>\n",
       "      <th>attribute_2</th>\n",
       "      <th>attribute_3</th>\n",
       "      <th>attribute_4</th>\n",
       "      <th>attribute_5</th>\n",
       "      <th>attribute_6</th>\n",
       "      <th>attribute_7</th>\n",
       "      <th>attribute_8</th>\n",
       "      <th>attribute_9</th>\n",
       "      <th>attribute_10</th>\n",
       "      <th>...</th>\n",
       "      <th>attribute_52</th>\n",
       "      <th>attribute_53</th>\n",
       "      <th>attribute_54</th>\n",
       "      <th>attribute_55</th>\n",
       "      <th>attribute_56</th>\n",
       "      <th>attribute_57</th>\n",
       "      <th>attribute_58</th>\n",
       "      <th>attribute_59</th>\n",
       "      <th>attribute_60</th>\n",
       "      <th>Class</th>\n",
       "    </tr>\n",
       "  </thead>\n",
       "  <tbody>\n",
       "    <tr>\n",
       "      <th>0</th>\n",
       "      <td>0.0200</td>\n",
       "      <td>0.0371</td>\n",
       "      <td>0.0428</td>\n",
       "      <td>0.0207</td>\n",
       "      <td>0.0954</td>\n",
       "      <td>0.0986</td>\n",
       "      <td>0.1539</td>\n",
       "      <td>0.1601</td>\n",
       "      <td>0.3109</td>\n",
       "      <td>0.2111</td>\n",
       "      <td>...</td>\n",
       "      <td>0.0027</td>\n",
       "      <td>0.0065</td>\n",
       "      <td>0.0159</td>\n",
       "      <td>0.0072</td>\n",
       "      <td>0.0167</td>\n",
       "      <td>0.0180</td>\n",
       "      <td>0.0084</td>\n",
       "      <td>0.0090</td>\n",
       "      <td>0.0032</td>\n",
       "      <td>Rock</td>\n",
       "    </tr>\n",
       "    <tr>\n",
       "      <th>1</th>\n",
       "      <td>0.0453</td>\n",
       "      <td>0.0523</td>\n",
       "      <td>0.0843</td>\n",
       "      <td>0.0689</td>\n",
       "      <td>0.1183</td>\n",
       "      <td>0.2583</td>\n",
       "      <td>0.2156</td>\n",
       "      <td>0.3481</td>\n",
       "      <td>0.3337</td>\n",
       "      <td>0.2872</td>\n",
       "      <td>...</td>\n",
       "      <td>0.0084</td>\n",
       "      <td>0.0089</td>\n",
       "      <td>0.0048</td>\n",
       "      <td>0.0094</td>\n",
       "      <td>0.0191</td>\n",
       "      <td>0.0140</td>\n",
       "      <td>0.0049</td>\n",
       "      <td>0.0052</td>\n",
       "      <td>0.0044</td>\n",
       "      <td>Rock</td>\n",
       "    </tr>\n",
       "    <tr>\n",
       "      <th>2</th>\n",
       "      <td>0.0262</td>\n",
       "      <td>0.0582</td>\n",
       "      <td>0.1099</td>\n",
       "      <td>0.1083</td>\n",
       "      <td>0.0974</td>\n",
       "      <td>0.2280</td>\n",
       "      <td>0.2431</td>\n",
       "      <td>0.3771</td>\n",
       "      <td>0.5598</td>\n",
       "      <td>0.6194</td>\n",
       "      <td>...</td>\n",
       "      <td>0.0232</td>\n",
       "      <td>0.0166</td>\n",
       "      <td>0.0095</td>\n",
       "      <td>0.0180</td>\n",
       "      <td>0.0244</td>\n",
       "      <td>0.0316</td>\n",
       "      <td>0.0164</td>\n",
       "      <td>0.0095</td>\n",
       "      <td>0.0078</td>\n",
       "      <td>Rock</td>\n",
       "    </tr>\n",
       "    <tr>\n",
       "      <th>3</th>\n",
       "      <td>0.0100</td>\n",
       "      <td>0.0171</td>\n",
       "      <td>0.0623</td>\n",
       "      <td>0.0205</td>\n",
       "      <td>0.0205</td>\n",
       "      <td>0.0368</td>\n",
       "      <td>0.1098</td>\n",
       "      <td>0.1276</td>\n",
       "      <td>0.0598</td>\n",
       "      <td>0.1264</td>\n",
       "      <td>...</td>\n",
       "      <td>0.0121</td>\n",
       "      <td>0.0036</td>\n",
       "      <td>0.0150</td>\n",
       "      <td>0.0085</td>\n",
       "      <td>0.0073</td>\n",
       "      <td>0.0050</td>\n",
       "      <td>0.0044</td>\n",
       "      <td>0.0040</td>\n",
       "      <td>0.0117</td>\n",
       "      <td>Rock</td>\n",
       "    </tr>\n",
       "    <tr>\n",
       "      <th>4</th>\n",
       "      <td>0.0762</td>\n",
       "      <td>0.0666</td>\n",
       "      <td>0.0481</td>\n",
       "      <td>0.0394</td>\n",
       "      <td>0.0590</td>\n",
       "      <td>0.0649</td>\n",
       "      <td>0.1209</td>\n",
       "      <td>0.2467</td>\n",
       "      <td>0.3564</td>\n",
       "      <td>0.4459</td>\n",
       "      <td>...</td>\n",
       "      <td>0.0031</td>\n",
       "      <td>0.0054</td>\n",
       "      <td>0.0105</td>\n",
       "      <td>0.0110</td>\n",
       "      <td>0.0015</td>\n",
       "      <td>0.0072</td>\n",
       "      <td>0.0048</td>\n",
       "      <td>0.0107</td>\n",
       "      <td>0.0094</td>\n",
       "      <td>Rock</td>\n",
       "    </tr>\n",
       "    <tr>\n",
       "      <th>...</th>\n",
       "      <td>...</td>\n",
       "      <td>...</td>\n",
       "      <td>...</td>\n",
       "      <td>...</td>\n",
       "      <td>...</td>\n",
       "      <td>...</td>\n",
       "      <td>...</td>\n",
       "      <td>...</td>\n",
       "      <td>...</td>\n",
       "      <td>...</td>\n",
       "      <td>...</td>\n",
       "      <td>...</td>\n",
       "      <td>...</td>\n",
       "      <td>...</td>\n",
       "      <td>...</td>\n",
       "      <td>...</td>\n",
       "      <td>...</td>\n",
       "      <td>...</td>\n",
       "      <td>...</td>\n",
       "      <td>...</td>\n",
       "      <td>...</td>\n",
       "    </tr>\n",
       "    <tr>\n",
       "      <th>203</th>\n",
       "      <td>0.0187</td>\n",
       "      <td>0.0346</td>\n",
       "      <td>0.0168</td>\n",
       "      <td>0.0177</td>\n",
       "      <td>0.0393</td>\n",
       "      <td>0.1630</td>\n",
       "      <td>0.2028</td>\n",
       "      <td>0.1694</td>\n",
       "      <td>0.2328</td>\n",
       "      <td>0.2684</td>\n",
       "      <td>...</td>\n",
       "      <td>0.0116</td>\n",
       "      <td>0.0098</td>\n",
       "      <td>0.0199</td>\n",
       "      <td>0.0033</td>\n",
       "      <td>0.0101</td>\n",
       "      <td>0.0065</td>\n",
       "      <td>0.0115</td>\n",
       "      <td>0.0193</td>\n",
       "      <td>0.0157</td>\n",
       "      <td>Mine</td>\n",
       "    </tr>\n",
       "    <tr>\n",
       "      <th>204</th>\n",
       "      <td>0.0323</td>\n",
       "      <td>0.0101</td>\n",
       "      <td>0.0298</td>\n",
       "      <td>0.0564</td>\n",
       "      <td>0.0760</td>\n",
       "      <td>0.0958</td>\n",
       "      <td>0.0990</td>\n",
       "      <td>0.1018</td>\n",
       "      <td>0.1030</td>\n",
       "      <td>0.2154</td>\n",
       "      <td>...</td>\n",
       "      <td>0.0061</td>\n",
       "      <td>0.0093</td>\n",
       "      <td>0.0135</td>\n",
       "      <td>0.0063</td>\n",
       "      <td>0.0063</td>\n",
       "      <td>0.0034</td>\n",
       "      <td>0.0032</td>\n",
       "      <td>0.0062</td>\n",
       "      <td>0.0067</td>\n",
       "      <td>Mine</td>\n",
       "    </tr>\n",
       "    <tr>\n",
       "      <th>205</th>\n",
       "      <td>0.0522</td>\n",
       "      <td>0.0437</td>\n",
       "      <td>0.0180</td>\n",
       "      <td>0.0292</td>\n",
       "      <td>0.0351</td>\n",
       "      <td>0.1171</td>\n",
       "      <td>0.1257</td>\n",
       "      <td>0.1178</td>\n",
       "      <td>0.1258</td>\n",
       "      <td>0.2529</td>\n",
       "      <td>...</td>\n",
       "      <td>0.0160</td>\n",
       "      <td>0.0029</td>\n",
       "      <td>0.0051</td>\n",
       "      <td>0.0062</td>\n",
       "      <td>0.0089</td>\n",
       "      <td>0.0140</td>\n",
       "      <td>0.0138</td>\n",
       "      <td>0.0077</td>\n",
       "      <td>0.0031</td>\n",
       "      <td>Mine</td>\n",
       "    </tr>\n",
       "    <tr>\n",
       "      <th>206</th>\n",
       "      <td>0.0303</td>\n",
       "      <td>0.0353</td>\n",
       "      <td>0.0490</td>\n",
       "      <td>0.0608</td>\n",
       "      <td>0.0167</td>\n",
       "      <td>0.1354</td>\n",
       "      <td>0.1465</td>\n",
       "      <td>0.1123</td>\n",
       "      <td>0.1945</td>\n",
       "      <td>0.2354</td>\n",
       "      <td>...</td>\n",
       "      <td>0.0086</td>\n",
       "      <td>0.0046</td>\n",
       "      <td>0.0126</td>\n",
       "      <td>0.0036</td>\n",
       "      <td>0.0035</td>\n",
       "      <td>0.0034</td>\n",
       "      <td>0.0079</td>\n",
       "      <td>0.0036</td>\n",
       "      <td>0.0048</td>\n",
       "      <td>Mine</td>\n",
       "    </tr>\n",
       "    <tr>\n",
       "      <th>207</th>\n",
       "      <td>0.0260</td>\n",
       "      <td>0.0363</td>\n",
       "      <td>0.0136</td>\n",
       "      <td>0.0272</td>\n",
       "      <td>0.0214</td>\n",
       "      <td>0.0338</td>\n",
       "      <td>0.0655</td>\n",
       "      <td>0.1400</td>\n",
       "      <td>0.1843</td>\n",
       "      <td>0.2354</td>\n",
       "      <td>...</td>\n",
       "      <td>0.0146</td>\n",
       "      <td>0.0129</td>\n",
       "      <td>0.0047</td>\n",
       "      <td>0.0039</td>\n",
       "      <td>0.0061</td>\n",
       "      <td>0.0040</td>\n",
       "      <td>0.0036</td>\n",
       "      <td>0.0061</td>\n",
       "      <td>0.0115</td>\n",
       "      <td>Mine</td>\n",
       "    </tr>\n",
       "  </tbody>\n",
       "</table>\n",
       "<p>208 rows × 61 columns</p>\n",
       "</div>"
      ],
      "text/plain": [
       "     attribute_1  attribute_2  attribute_3  attribute_4  attribute_5  \\\n",
       "0         0.0200       0.0371       0.0428       0.0207       0.0954   \n",
       "1         0.0453       0.0523       0.0843       0.0689       0.1183   \n",
       "2         0.0262       0.0582       0.1099       0.1083       0.0974   \n",
       "3         0.0100       0.0171       0.0623       0.0205       0.0205   \n",
       "4         0.0762       0.0666       0.0481       0.0394       0.0590   \n",
       "..           ...          ...          ...          ...          ...   \n",
       "203       0.0187       0.0346       0.0168       0.0177       0.0393   \n",
       "204       0.0323       0.0101       0.0298       0.0564       0.0760   \n",
       "205       0.0522       0.0437       0.0180       0.0292       0.0351   \n",
       "206       0.0303       0.0353       0.0490       0.0608       0.0167   \n",
       "207       0.0260       0.0363       0.0136       0.0272       0.0214   \n",
       "\n",
       "     attribute_6  attribute_7  attribute_8  attribute_9  attribute_10  ...  \\\n",
       "0         0.0986       0.1539       0.1601       0.3109        0.2111  ...   \n",
       "1         0.2583       0.2156       0.3481       0.3337        0.2872  ...   \n",
       "2         0.2280       0.2431       0.3771       0.5598        0.6194  ...   \n",
       "3         0.0368       0.1098       0.1276       0.0598        0.1264  ...   \n",
       "4         0.0649       0.1209       0.2467       0.3564        0.4459  ...   \n",
       "..           ...          ...          ...          ...           ...  ...   \n",
       "203       0.1630       0.2028       0.1694       0.2328        0.2684  ...   \n",
       "204       0.0958       0.0990       0.1018       0.1030        0.2154  ...   \n",
       "205       0.1171       0.1257       0.1178       0.1258        0.2529  ...   \n",
       "206       0.1354       0.1465       0.1123       0.1945        0.2354  ...   \n",
       "207       0.0338       0.0655       0.1400       0.1843        0.2354  ...   \n",
       "\n",
       "     attribute_52  attribute_53  attribute_54  attribute_55  attribute_56  \\\n",
       "0          0.0027        0.0065        0.0159        0.0072        0.0167   \n",
       "1          0.0084        0.0089        0.0048        0.0094        0.0191   \n",
       "2          0.0232        0.0166        0.0095        0.0180        0.0244   \n",
       "3          0.0121        0.0036        0.0150        0.0085        0.0073   \n",
       "4          0.0031        0.0054        0.0105        0.0110        0.0015   \n",
       "..            ...           ...           ...           ...           ...   \n",
       "203        0.0116        0.0098        0.0199        0.0033        0.0101   \n",
       "204        0.0061        0.0093        0.0135        0.0063        0.0063   \n",
       "205        0.0160        0.0029        0.0051        0.0062        0.0089   \n",
       "206        0.0086        0.0046        0.0126        0.0036        0.0035   \n",
       "207        0.0146        0.0129        0.0047        0.0039        0.0061   \n",
       "\n",
       "     attribute_57  attribute_58  attribute_59  attribute_60  Class  \n",
       "0          0.0180        0.0084        0.0090        0.0032   Rock  \n",
       "1          0.0140        0.0049        0.0052        0.0044   Rock  \n",
       "2          0.0316        0.0164        0.0095        0.0078   Rock  \n",
       "3          0.0050        0.0044        0.0040        0.0117   Rock  \n",
       "4          0.0072        0.0048        0.0107        0.0094   Rock  \n",
       "..            ...           ...           ...           ...    ...  \n",
       "203        0.0065        0.0115        0.0193        0.0157   Mine  \n",
       "204        0.0034        0.0032        0.0062        0.0067   Mine  \n",
       "205        0.0140        0.0138        0.0077        0.0031   Mine  \n",
       "206        0.0034        0.0079        0.0036        0.0048   Mine  \n",
       "207        0.0040        0.0036        0.0061        0.0115   Mine  \n",
       "\n",
       "[208 rows x 61 columns]"
      ]
     },
     "execution_count": 6,
     "metadata": {},
     "output_type": "execute_result"
    }
   ],
   "source": [
    "data"
   ]
  },
  {
   "cell_type": "code",
   "execution_count": 7,
   "id": "8b4ecc1d",
   "metadata": {},
   "outputs": [
    {
     "data": {
      "text/plain": [
       "<bound method DataFrame.info of      attribute_1  attribute_2  attribute_3  attribute_4  attribute_5  \\\n",
       "0         0.0200       0.0371       0.0428       0.0207       0.0954   \n",
       "1         0.0453       0.0523       0.0843       0.0689       0.1183   \n",
       "2         0.0262       0.0582       0.1099       0.1083       0.0974   \n",
       "3         0.0100       0.0171       0.0623       0.0205       0.0205   \n",
       "4         0.0762       0.0666       0.0481       0.0394       0.0590   \n",
       "..           ...          ...          ...          ...          ...   \n",
       "203       0.0187       0.0346       0.0168       0.0177       0.0393   \n",
       "204       0.0323       0.0101       0.0298       0.0564       0.0760   \n",
       "205       0.0522       0.0437       0.0180       0.0292       0.0351   \n",
       "206       0.0303       0.0353       0.0490       0.0608       0.0167   \n",
       "207       0.0260       0.0363       0.0136       0.0272       0.0214   \n",
       "\n",
       "     attribute_6  attribute_7  attribute_8  attribute_9  attribute_10  ...  \\\n",
       "0         0.0986       0.1539       0.1601       0.3109        0.2111  ...   \n",
       "1         0.2583       0.2156       0.3481       0.3337        0.2872  ...   \n",
       "2         0.2280       0.2431       0.3771       0.5598        0.6194  ...   \n",
       "3         0.0368       0.1098       0.1276       0.0598        0.1264  ...   \n",
       "4         0.0649       0.1209       0.2467       0.3564        0.4459  ...   \n",
       "..           ...          ...          ...          ...           ...  ...   \n",
       "203       0.1630       0.2028       0.1694       0.2328        0.2684  ...   \n",
       "204       0.0958       0.0990       0.1018       0.1030        0.2154  ...   \n",
       "205       0.1171       0.1257       0.1178       0.1258        0.2529  ...   \n",
       "206       0.1354       0.1465       0.1123       0.1945        0.2354  ...   \n",
       "207       0.0338       0.0655       0.1400       0.1843        0.2354  ...   \n",
       "\n",
       "     attribute_52  attribute_53  attribute_54  attribute_55  attribute_56  \\\n",
       "0          0.0027        0.0065        0.0159        0.0072        0.0167   \n",
       "1          0.0084        0.0089        0.0048        0.0094        0.0191   \n",
       "2          0.0232        0.0166        0.0095        0.0180        0.0244   \n",
       "3          0.0121        0.0036        0.0150        0.0085        0.0073   \n",
       "4          0.0031        0.0054        0.0105        0.0110        0.0015   \n",
       "..            ...           ...           ...           ...           ...   \n",
       "203        0.0116        0.0098        0.0199        0.0033        0.0101   \n",
       "204        0.0061        0.0093        0.0135        0.0063        0.0063   \n",
       "205        0.0160        0.0029        0.0051        0.0062        0.0089   \n",
       "206        0.0086        0.0046        0.0126        0.0036        0.0035   \n",
       "207        0.0146        0.0129        0.0047        0.0039        0.0061   \n",
       "\n",
       "     attribute_57  attribute_58  attribute_59  attribute_60  Class  \n",
       "0          0.0180        0.0084        0.0090        0.0032   Rock  \n",
       "1          0.0140        0.0049        0.0052        0.0044   Rock  \n",
       "2          0.0316        0.0164        0.0095        0.0078   Rock  \n",
       "3          0.0050        0.0044        0.0040        0.0117   Rock  \n",
       "4          0.0072        0.0048        0.0107        0.0094   Rock  \n",
       "..            ...           ...           ...           ...    ...  \n",
       "203        0.0065        0.0115        0.0193        0.0157   Mine  \n",
       "204        0.0034        0.0032        0.0062        0.0067   Mine  \n",
       "205        0.0140        0.0138        0.0077        0.0031   Mine  \n",
       "206        0.0034        0.0079        0.0036        0.0048   Mine  \n",
       "207        0.0040        0.0036        0.0061        0.0115   Mine  \n",
       "\n",
       "[208 rows x 61 columns]>"
      ]
     },
     "execution_count": 7,
     "metadata": {},
     "output_type": "execute_result"
    }
   ],
   "source": [
    "data.info"
   ]
  },
  {
   "cell_type": "markdown",
   "id": "1cc61794",
   "metadata": {},
   "source": [
    "Data seems good, let us check if there are any outlier data"
   ]
  },
  {
   "cell_type": "code",
   "execution_count": 8,
   "id": "874c311b",
   "metadata": {},
   "outputs": [
    {
     "data": {
      "text/plain": [
       "Series([], dtype: int64)"
      ]
     },
     "execution_count": 8,
     "metadata": {},
     "output_type": "execute_result"
    }
   ],
   "source": [
    "data.isnull().sum()[data.isnull().sum()>0]\n"
   ]
  },
  {
   "cell_type": "markdown",
   "id": "255ba4a4",
   "metadata": {},
   "source": [
    "We do not have any null values, so we do not need to do anymore pre processing to the data. "
   ]
  },
  {
   "cell_type": "code",
   "execution_count": 9,
   "id": "04665f60",
   "metadata": {},
   "outputs": [
    {
     "data": {
      "text/plain": [
       "attribute_1     float64\n",
       "attribute_2     float64\n",
       "attribute_3     float64\n",
       "attribute_4     float64\n",
       "attribute_5     float64\n",
       "                 ...   \n",
       "attribute_57    float64\n",
       "attribute_58    float64\n",
       "attribute_59    float64\n",
       "attribute_60    float64\n",
       "Class            object\n",
       "Length: 61, dtype: object"
      ]
     },
     "execution_count": 9,
     "metadata": {},
     "output_type": "execute_result"
    }
   ],
   "source": [
    "data.dtypes"
   ]
  },
  {
   "cell_type": "markdown",
   "id": "ef7fa0b0",
   "metadata": {},
   "source": [
    "We have a total of 60 attirbute and the last column, which is the \"Class\" rock or mine is in the form of an object. Let us see how many Mine and Rocks are there in the dataset."
   ]
  },
  {
   "cell_type": "code",
   "execution_count": 10,
   "id": "224f1828",
   "metadata": {},
   "outputs": [
    {
     "data": {
      "text/plain": [
       "Mine    111\n",
       "Rock     97\n",
       "Name: Class, dtype: int64"
      ]
     },
     "execution_count": 10,
     "metadata": {},
     "output_type": "execute_result"
    }
   ],
   "source": [
    "data[\"Class\"].value_counts()\n"
   ]
  },
  {
   "cell_type": "markdown",
   "id": "080a7853",
   "metadata": {},
   "source": [
    "The number of mine and rocks seems to be evem. we can use this data set to train our model. Also, there is only two classifications, which is either \"Mine\" or \"Rock\". "
   ]
  },
  {
   "cell_type": "markdown",
   "id": "4411a14d",
   "metadata": {},
   "source": [
    "Since it is in the "
   ]
  },
  {
   "cell_type": "code",
   "execution_count": 11,
   "id": "0e004c24",
   "metadata": {},
   "outputs": [
    {
     "name": "stdout",
     "output_type": "stream",
     "text": [
      "     attribute_1  attribute_2  attribute_3  attribute_4  attribute_5  \\\n",
      "0         0.0200       0.0371       0.0428       0.0207       0.0954   \n",
      "1         0.0453       0.0523       0.0843       0.0689       0.1183   \n",
      "2         0.0262       0.0582       0.1099       0.1083       0.0974   \n",
      "3         0.0100       0.0171       0.0623       0.0205       0.0205   \n",
      "4         0.0762       0.0666       0.0481       0.0394       0.0590   \n",
      "..           ...          ...          ...          ...          ...   \n",
      "203       0.0187       0.0346       0.0168       0.0177       0.0393   \n",
      "204       0.0323       0.0101       0.0298       0.0564       0.0760   \n",
      "205       0.0522       0.0437       0.0180       0.0292       0.0351   \n",
      "206       0.0303       0.0353       0.0490       0.0608       0.0167   \n",
      "207       0.0260       0.0363       0.0136       0.0272       0.0214   \n",
      "\n",
      "     attribute_6  attribute_7  attribute_8  attribute_9  attribute_10  ...  \\\n",
      "0         0.0986       0.1539       0.1601       0.3109        0.2111  ...   \n",
      "1         0.2583       0.2156       0.3481       0.3337        0.2872  ...   \n",
      "2         0.2280       0.2431       0.3771       0.5598        0.6194  ...   \n",
      "3         0.0368       0.1098       0.1276       0.0598        0.1264  ...   \n",
      "4         0.0649       0.1209       0.2467       0.3564        0.4459  ...   \n",
      "..           ...          ...          ...          ...           ...  ...   \n",
      "203       0.1630       0.2028       0.1694       0.2328        0.2684  ...   \n",
      "204       0.0958       0.0990       0.1018       0.1030        0.2154  ...   \n",
      "205       0.1171       0.1257       0.1178       0.1258        0.2529  ...   \n",
      "206       0.1354       0.1465       0.1123       0.1945        0.2354  ...   \n",
      "207       0.0338       0.0655       0.1400       0.1843        0.2354  ...   \n",
      "\n",
      "     attribute_52  attribute_53  attribute_54  attribute_55  attribute_56  \\\n",
      "0          0.0027        0.0065        0.0159        0.0072        0.0167   \n",
      "1          0.0084        0.0089        0.0048        0.0094        0.0191   \n",
      "2          0.0232        0.0166        0.0095        0.0180        0.0244   \n",
      "3          0.0121        0.0036        0.0150        0.0085        0.0073   \n",
      "4          0.0031        0.0054        0.0105        0.0110        0.0015   \n",
      "..            ...           ...           ...           ...           ...   \n",
      "203        0.0116        0.0098        0.0199        0.0033        0.0101   \n",
      "204        0.0061        0.0093        0.0135        0.0063        0.0063   \n",
      "205        0.0160        0.0029        0.0051        0.0062        0.0089   \n",
      "206        0.0086        0.0046        0.0126        0.0036        0.0035   \n",
      "207        0.0146        0.0129        0.0047        0.0039        0.0061   \n",
      "\n",
      "     attribute_57  attribute_58  attribute_59  attribute_60  Class  \n",
      "0          0.0180        0.0084        0.0090        0.0032      1  \n",
      "1          0.0140        0.0049        0.0052        0.0044      1  \n",
      "2          0.0316        0.0164        0.0095        0.0078      1  \n",
      "3          0.0050        0.0044        0.0040        0.0117      1  \n",
      "4          0.0072        0.0048        0.0107        0.0094      1  \n",
      "..            ...           ...           ...           ...    ...  \n",
      "203        0.0065        0.0115        0.0193        0.0157      0  \n",
      "204        0.0034        0.0032        0.0062        0.0067      0  \n",
      "205        0.0140        0.0138        0.0077        0.0031      0  \n",
      "206        0.0034        0.0079        0.0036        0.0048      0  \n",
      "207        0.0040        0.0036        0.0061        0.0115      0  \n",
      "\n",
      "[208 rows x 61 columns]\n"
     ]
    }
   ],
   "source": [
    "from sklearn.preprocessing import LabelEncoder\n",
    "from sklearn.preprocessing import LabelEncoder\n",
    "le = LabelEncoder()\n",
    "data['Class'] = le.fit_transform(data['Class'])\n",
    "print(data)\n"
   ]
  },
  {
   "cell_type": "code",
   "execution_count": 12,
   "id": "ed5c093c",
   "metadata": {},
   "outputs": [
    {
     "data": {
      "text/plain": [
       "0      1\n",
       "1      1\n",
       "2      1\n",
       "3      1\n",
       "4      1\n",
       "      ..\n",
       "203    0\n",
       "204    0\n",
       "205    0\n",
       "206    0\n",
       "207    0\n",
       "Name: Class, Length: 208, dtype: int32"
      ]
     },
     "execution_count": 12,
     "metadata": {},
     "output_type": "execute_result"
    }
   ],
   "source": [
    "data[\"Class\"]\n"
   ]
  },
  {
   "cell_type": "markdown",
   "id": "42245fa8",
   "metadata": {},
   "source": [
    "Now it is all int64 types"
   ]
  },
  {
   "cell_type": "code",
   "execution_count": 13,
   "id": "fa07e5cc",
   "metadata": {},
   "outputs": [
    {
     "name": "stdout",
     "output_type": "stream",
     "text": [
      "<class 'pandas.core.frame.DataFrame'>\n",
      "RangeIndex: 208 entries, 0 to 207\n",
      "Data columns (total 61 columns):\n",
      " #   Column        Non-Null Count  Dtype  \n",
      "---  ------        --------------  -----  \n",
      " 0   attribute_1   208 non-null    float64\n",
      " 1   attribute_2   208 non-null    float64\n",
      " 2   attribute_3   208 non-null    float64\n",
      " 3   attribute_4   208 non-null    float64\n",
      " 4   attribute_5   208 non-null    float64\n",
      " 5   attribute_6   208 non-null    float64\n",
      " 6   attribute_7   208 non-null    float64\n",
      " 7   attribute_8   208 non-null    float64\n",
      " 8   attribute_9   208 non-null    float64\n",
      " 9   attribute_10  208 non-null    float64\n",
      " 10  attribute_11  208 non-null    float64\n",
      " 11  attribute_12  208 non-null    float64\n",
      " 12  attribute_13  208 non-null    float64\n",
      " 13  attribute_14  208 non-null    float64\n",
      " 14  attribute_15  208 non-null    float64\n",
      " 15  attribute_16  208 non-null    float64\n",
      " 16  attribute_17  208 non-null    float64\n",
      " 17  attribute_18  208 non-null    float64\n",
      " 18  attribute_19  208 non-null    float64\n",
      " 19  attribute_20  208 non-null    float64\n",
      " 20  attribute_21  208 non-null    float64\n",
      " 21  attribute_22  208 non-null    float64\n",
      " 22  attribute_23  208 non-null    float64\n",
      " 23  attribute_24  208 non-null    float64\n",
      " 24  attribute_25  208 non-null    float64\n",
      " 25  attribute_26  208 non-null    float64\n",
      " 26  attribute_27  208 non-null    float64\n",
      " 27  attribute_28  208 non-null    float64\n",
      " 28  attribute_29  208 non-null    float64\n",
      " 29  attribute_30  208 non-null    float64\n",
      " 30  attribute_31  208 non-null    float64\n",
      " 31  attribute_32  208 non-null    float64\n",
      " 32  attribute_33  208 non-null    float64\n",
      " 33  attribute_34  208 non-null    float64\n",
      " 34  attribute_35  208 non-null    float64\n",
      " 35  attribute_36  208 non-null    float64\n",
      " 36  attribute_37  208 non-null    float64\n",
      " 37  attribute_38  208 non-null    float64\n",
      " 38  attribute_39  208 non-null    float64\n",
      " 39  attribute_40  208 non-null    float64\n",
      " 40  attribute_41  208 non-null    float64\n",
      " 41  attribute_42  208 non-null    float64\n",
      " 42  attribute_43  208 non-null    float64\n",
      " 43  attribute_44  208 non-null    float64\n",
      " 44  attribute_45  208 non-null    float64\n",
      " 45  attribute_46  208 non-null    float64\n",
      " 46  attribute_47  208 non-null    float64\n",
      " 47  attribute_48  208 non-null    float64\n",
      " 48  attribute_49  208 non-null    float64\n",
      " 49  attribute_50  208 non-null    float64\n",
      " 50  attribute_51  208 non-null    float64\n",
      " 51  attribute_52  208 non-null    float64\n",
      " 52  attribute_53  208 non-null    float64\n",
      " 53  attribute_54  208 non-null    float64\n",
      " 54  attribute_55  208 non-null    float64\n",
      " 55  attribute_56  208 non-null    float64\n",
      " 56  attribute_57  208 non-null    float64\n",
      " 57  attribute_58  208 non-null    float64\n",
      " 58  attribute_59  208 non-null    float64\n",
      " 59  attribute_60  208 non-null    float64\n",
      " 60  Class         208 non-null    int32  \n",
      "dtypes: float64(60), int32(1)\n",
      "memory usage: 98.4 KB\n"
     ]
    }
   ],
   "source": [
    "data.info()"
   ]
  },
  {
   "cell_type": "code",
   "execution_count": 14,
   "id": "d21637dc",
   "metadata": {},
   "outputs": [],
   "source": [
    "\n",
    "X = data.drop(columns=['Class'])\n",
    "y = data['Class']\n"
   ]
  },
  {
   "cell_type": "code",
   "execution_count": 33,
   "id": "d3def0ec",
   "metadata": {},
   "outputs": [],
   "source": [
    "X_train, X_test, y_train, y_test = train_test_split(X, y, test_size=0.15, shuffle=True)\n"
   ]
  },
  {
   "cell_type": "code",
   "execution_count": 41,
   "id": "cede2609",
   "metadata": {},
   "outputs": [],
   "source": [
    "from tensorflow.keras import regularizers\n",
    "import tensorflow as tf\n",
    "from tensorflow.keras.layers import Dense\n",
    "from tensorflow.keras.models import Model\n",
    "from tensorflow import keras\n",
    "\n",
    "# build the Artifical Neuro Network layers\n",
    "network = keras.Sequential()\n",
    "network.add(keras.layers.Dense(120, activation='relu', input_shape=(60,)))\n",
    "network.add(keras.layers.Dense(120, activation='relu', kernel_regularizer=regularizers.l2(0.001)))\n",
    "network.add(keras.layers.Dense(1, activation='sigmoid'))"
   ]
  },
  {
   "cell_type": "code",
   "execution_count": 42,
   "id": "a10532f2",
   "metadata": {},
   "outputs": [
    {
     "name": "stdout",
     "output_type": "stream",
     "text": [
      "Model: \"sequential_1\"\n",
      "_________________________________________________________________\n",
      " Layer (type)                Output Shape              Param #   \n",
      "=================================================================\n",
      " dense (Dense)               (None, 120)               7320      \n",
      "                                                                 \n",
      " dense_1 (Dense)             (None, 120)               14520     \n",
      "                                                                 \n",
      " dense_2 (Dense)             (None, 1)                 121       \n",
      "                                                                 \n",
      "=================================================================\n",
      "Total params: 21,961\n",
      "Trainable params: 21,961\n",
      "Non-trainable params: 0\n",
      "_________________________________________________________________\n"
     ]
    }
   ],
   "source": [
    "network.compile(optimizer='adam', loss='binary_crossentropy', metrics=['accuracy'])\n",
    "network.summary()"
   ]
  },
  {
   "cell_type": "code",
   "execution_count": 68,
   "id": "911f9426",
   "metadata": {},
   "outputs": [
    {
     "name": "stdout",
     "output_type": "stream",
     "text": [
      "Epoch 1/100\n",
      "35/35 [==============================] - 0s 12ms/step - loss: 0.0242 - accuracy: 1.0000 - val_loss: 1.1570 - val_accuracy: 0.8056\n",
      "Epoch 2/100\n",
      "35/35 [==============================] - 0s 10ms/step - loss: 0.0228 - accuracy: 1.0000 - val_loss: 1.1075 - val_accuracy: 0.8056\n",
      "Epoch 3/100\n",
      "35/35 [==============================] - 0s 10ms/step - loss: 0.0226 - accuracy: 1.0000 - val_loss: 1.1258 - val_accuracy: 0.8056\n",
      "Epoch 4/100\n",
      "35/35 [==============================] - 0s 12ms/step - loss: 0.0204 - accuracy: 1.0000 - val_loss: 1.1290 - val_accuracy: 0.8056\n",
      "Epoch 5/100\n",
      "35/35 [==============================] - 0s 11ms/step - loss: 0.0197 - accuracy: 1.0000 - val_loss: 1.0990 - val_accuracy: 0.8056\n",
      "Epoch 6/100\n",
      "35/35 [==============================] - 0s 11ms/step - loss: 0.0195 - accuracy: 1.0000 - val_loss: 1.1169 - val_accuracy: 0.8056\n",
      "Epoch 7/100\n",
      "35/35 [==============================] - 0s 11ms/step - loss: 0.0210 - accuracy: 1.0000 - val_loss: 1.2579 - val_accuracy: 0.7778\n",
      "Epoch 8/100\n",
      "35/35 [==============================] - 0s 11ms/step - loss: 0.0229 - accuracy: 1.0000 - val_loss: 1.1107 - val_accuracy: 0.8056\n",
      "Epoch 9/100\n",
      "35/35 [==============================] - 0s 11ms/step - loss: 0.0208 - accuracy: 1.0000 - val_loss: 1.1323 - val_accuracy: 0.8056\n",
      "Epoch 10/100\n",
      "35/35 [==============================] - 0s 11ms/step - loss: 0.0188 - accuracy: 1.0000 - val_loss: 1.1309 - val_accuracy: 0.8056\n",
      "Epoch 11/100\n",
      "35/35 [==============================] - 0s 10ms/step - loss: 0.0185 - accuracy: 1.0000 - val_loss: 1.1184 - val_accuracy: 0.8056\n",
      "Epoch 12/100\n",
      "35/35 [==============================] - 0s 10ms/step - loss: 0.0197 - accuracy: 1.0000 - val_loss: 1.1828 - val_accuracy: 0.8056\n",
      "Epoch 13/100\n",
      "35/35 [==============================] - 0s 10ms/step - loss: 0.0205 - accuracy: 1.0000 - val_loss: 1.1719 - val_accuracy: 0.8056\n",
      "Epoch 14/100\n",
      "35/35 [==============================] - 0s 11ms/step - loss: 0.0181 - accuracy: 1.0000 - val_loss: 1.1432 - val_accuracy: 0.8056\n",
      "Epoch 15/100\n",
      "35/35 [==============================] - 0s 11ms/step - loss: 0.0172 - accuracy: 1.0000 - val_loss: 1.1897 - val_accuracy: 0.8056\n",
      "Epoch 16/100\n",
      "35/35 [==============================] - 0s 11ms/step - loss: 0.0169 - accuracy: 1.0000 - val_loss: 1.1655 - val_accuracy: 0.8056\n",
      "Epoch 17/100\n",
      "35/35 [==============================] - 0s 11ms/step - loss: 0.0181 - accuracy: 1.0000 - val_loss: 1.1304 - val_accuracy: 0.8056\n",
      "Epoch 18/100\n",
      "35/35 [==============================] - 0s 11ms/step - loss: 0.0169 - accuracy: 1.0000 - val_loss: 1.1868 - val_accuracy: 0.8056\n",
      "Epoch 19/100\n",
      "35/35 [==============================] - 0s 11ms/step - loss: 0.0164 - accuracy: 1.0000 - val_loss: 1.1709 - val_accuracy: 0.8056\n",
      "Epoch 20/100\n",
      "35/35 [==============================] - 0s 11ms/step - loss: 0.0154 - accuracy: 1.0000 - val_loss: 1.1441 - val_accuracy: 0.8056\n",
      "Epoch 21/100\n",
      "35/35 [==============================] - 0s 11ms/step - loss: 0.0166 - accuracy: 1.0000 - val_loss: 1.1566 - val_accuracy: 0.8056\n",
      "Epoch 22/100\n",
      "35/35 [==============================] - 0s 11ms/step - loss: 0.1140 - accuracy: 0.9571 - val_loss: 1.2214 - val_accuracy: 0.8056\n",
      "Epoch 23/100\n",
      "35/35 [==============================] - 0s 11ms/step - loss: 0.2876 - accuracy: 0.8929 - val_loss: 1.3022 - val_accuracy: 0.6667\n",
      "Epoch 24/100\n",
      "35/35 [==============================] - 0s 10ms/step - loss: 0.1476 - accuracy: 0.9500 - val_loss: 0.8293 - val_accuracy: 0.7500\n",
      "Epoch 25/100\n",
      "35/35 [==============================] - 0s 10ms/step - loss: 0.0500 - accuracy: 0.9929 - val_loss: 0.9429 - val_accuracy: 0.7778\n",
      "Epoch 26/100\n",
      "35/35 [==============================] - 0s 10ms/step - loss: 0.0282 - accuracy: 1.0000 - val_loss: 0.9488 - val_accuracy: 0.8056\n",
      "Epoch 27/100\n",
      "35/35 [==============================] - 0s 10ms/step - loss: 0.0237 - accuracy: 1.0000 - val_loss: 0.9798 - val_accuracy: 0.8056\n",
      "Epoch 28/100\n",
      "35/35 [==============================] - 0s 10ms/step - loss: 0.0226 - accuracy: 1.0000 - val_loss: 1.0233 - val_accuracy: 0.8056\n",
      "Epoch 29/100\n",
      "35/35 [==============================] - 0s 10ms/step - loss: 0.0216 - accuracy: 1.0000 - val_loss: 1.0426 - val_accuracy: 0.8056\n",
      "Epoch 30/100\n",
      "35/35 [==============================] - 0s 11ms/step - loss: 0.0207 - accuracy: 1.0000 - val_loss: 1.0608 - val_accuracy: 0.8056\n",
      "Epoch 31/100\n",
      "35/35 [==============================] - 0s 11ms/step - loss: 0.0201 - accuracy: 1.0000 - val_loss: 1.0702 - val_accuracy: 0.8056\n",
      "Epoch 32/100\n",
      "35/35 [==============================] - 0s 11ms/step - loss: 0.0196 - accuracy: 1.0000 - val_loss: 1.0872 - val_accuracy: 0.8056\n",
      "Epoch 33/100\n",
      "35/35 [==============================] - 0s 11ms/step - loss: 0.0191 - accuracy: 1.0000 - val_loss: 1.0968 - val_accuracy: 0.8056\n",
      "Epoch 34/100\n",
      "35/35 [==============================] - 0s 11ms/step - loss: 0.0187 - accuracy: 1.0000 - val_loss: 1.1132 - val_accuracy: 0.8056\n",
      "Epoch 35/100\n",
      "35/35 [==============================] - 0s 11ms/step - loss: 0.0183 - accuracy: 1.0000 - val_loss: 1.1110 - val_accuracy: 0.8056\n",
      "Epoch 36/100\n",
      "35/35 [==============================] - 0s 11ms/step - loss: 0.0177 - accuracy: 1.0000 - val_loss: 1.1179 - val_accuracy: 0.8056\n",
      "Epoch 37/100\n",
      "35/35 [==============================] - 0s 12ms/step - loss: 0.0174 - accuracy: 1.0000 - val_loss: 1.1070 - val_accuracy: 0.8056\n",
      "Epoch 38/100\n",
      "35/35 [==============================] - 0s 11ms/step - loss: 0.0171 - accuracy: 1.0000 - val_loss: 1.1199 - val_accuracy: 0.8056\n",
      "Epoch 39/100\n",
      "35/35 [==============================] - 0s 10ms/step - loss: 0.0167 - accuracy: 1.0000 - val_loss: 1.1226 - val_accuracy: 0.8056\n",
      "Epoch 40/100\n",
      "35/35 [==============================] - 0s 10ms/step - loss: 0.0164 - accuracy: 1.0000 - val_loss: 1.1334 - val_accuracy: 0.8056\n",
      "Epoch 41/100\n",
      "35/35 [==============================] - 0s 10ms/step - loss: 0.0161 - accuracy: 1.0000 - val_loss: 1.1233 - val_accuracy: 0.8056\n",
      "Epoch 42/100\n",
      "35/35 [==============================] - 0s 10ms/step - loss: 0.0159 - accuracy: 1.0000 - val_loss: 1.1535 - val_accuracy: 0.8056\n",
      "Epoch 43/100\n",
      "35/35 [==============================] - 0s 11ms/step - loss: 0.0159 - accuracy: 1.0000 - val_loss: 1.1455 - val_accuracy: 0.8056\n",
      "Epoch 44/100\n",
      "35/35 [==============================] - 0s 11ms/step - loss: 0.0154 - accuracy: 1.0000 - val_loss: 1.1626 - val_accuracy: 0.8056\n",
      "Epoch 45/100\n",
      "35/35 [==============================] - 0s 10ms/step - loss: 0.0151 - accuracy: 1.0000 - val_loss: 1.1331 - val_accuracy: 0.8056\n",
      "Epoch 46/100\n",
      "35/35 [==============================] - 0s 10ms/step - loss: 0.0151 - accuracy: 1.0000 - val_loss: 1.1428 - val_accuracy: 0.8056\n",
      "Epoch 47/100\n",
      "35/35 [==============================] - 0s 11ms/step - loss: 0.0149 - accuracy: 1.0000 - val_loss: 1.1410 - val_accuracy: 0.8056\n",
      "Epoch 48/100\n",
      "35/35 [==============================] - 0s 11ms/step - loss: 0.0145 - accuracy: 1.0000 - val_loss: 1.1570 - val_accuracy: 0.8056\n",
      "Epoch 49/100\n",
      "35/35 [==============================] - 0s 11ms/step - loss: 0.0143 - accuracy: 1.0000 - val_loss: 1.1870 - val_accuracy: 0.8056\n",
      "Epoch 50/100\n",
      "35/35 [==============================] - 0s 11ms/step - loss: 0.0141 - accuracy: 1.0000 - val_loss: 1.1442 - val_accuracy: 0.8056\n",
      "Epoch 51/100\n",
      "35/35 [==============================] - 0s 11ms/step - loss: 0.0139 - accuracy: 1.0000 - val_loss: 1.1521 - val_accuracy: 0.8056\n",
      "Epoch 52/100\n",
      "35/35 [==============================] - 0s 11ms/step - loss: 0.0137 - accuracy: 1.0000 - val_loss: 1.1690 - val_accuracy: 0.8056\n",
      "Epoch 53/100\n",
      "35/35 [==============================] - 0s 11ms/step - loss: 0.0137 - accuracy: 1.0000 - val_loss: 1.1433 - val_accuracy: 0.8056\n",
      "Epoch 54/100\n",
      "35/35 [==============================] - 0s 10ms/step - loss: 0.0134 - accuracy: 1.0000 - val_loss: 1.1601 - val_accuracy: 0.8056\n",
      "Epoch 55/100\n",
      "35/35 [==============================] - 0s 11ms/step - loss: 0.0132 - accuracy: 1.0000 - val_loss: 1.1634 - val_accuracy: 0.8056\n",
      "Epoch 56/100\n",
      "35/35 [==============================] - 0s 10ms/step - loss: 0.0130 - accuracy: 1.0000 - val_loss: 1.1701 - val_accuracy: 0.8056\n",
      "Epoch 57/100\n",
      "35/35 [==============================] - 0s 11ms/step - loss: 0.0131 - accuracy: 1.0000 - val_loss: 1.1872 - val_accuracy: 0.8056\n",
      "Epoch 58/100\n"
     ]
    },
    {
     "name": "stdout",
     "output_type": "stream",
     "text": [
      "35/35 [==============================] - 0s 11ms/step - loss: 0.0130 - accuracy: 1.0000 - val_loss: 1.1745 - val_accuracy: 0.8056\n",
      "Epoch 59/100\n",
      "35/35 [==============================] - 0s 11ms/step - loss: 0.0124 - accuracy: 1.0000 - val_loss: 1.1598 - val_accuracy: 0.8056\n",
      "Epoch 60/100\n",
      "35/35 [==============================] - 0s 12ms/step - loss: 0.0124 - accuracy: 1.0000 - val_loss: 1.1656 - val_accuracy: 0.8056\n",
      "Epoch 61/100\n",
      "35/35 [==============================] - 0s 11ms/step - loss: 0.0123 - accuracy: 1.0000 - val_loss: 1.1917 - val_accuracy: 0.8056\n",
      "Epoch 62/100\n",
      "35/35 [==============================] - 0s 12ms/step - loss: 0.0124 - accuracy: 1.0000 - val_loss: 1.1680 - val_accuracy: 0.8056\n",
      "Epoch 63/100\n",
      "35/35 [==============================] - 0s 11ms/step - loss: 0.0120 - accuracy: 1.0000 - val_loss: 1.1808 - val_accuracy: 0.8056\n",
      "Epoch 64/100\n",
      "35/35 [==============================] - 0s 10ms/step - loss: 0.0120 - accuracy: 1.0000 - val_loss: 1.1464 - val_accuracy: 0.8056\n",
      "Epoch 65/100\n",
      "35/35 [==============================] - 0s 11ms/step - loss: 0.0122 - accuracy: 1.0000 - val_loss: 1.1536 - val_accuracy: 0.8056\n",
      "Epoch 66/100\n",
      "35/35 [==============================] - 0s 11ms/step - loss: 0.0118 - accuracy: 1.0000 - val_loss: 1.1700 - val_accuracy: 0.8056\n",
      "Epoch 67/100\n",
      "35/35 [==============================] - 0s 11ms/step - loss: 0.0116 - accuracy: 1.0000 - val_loss: 1.2110 - val_accuracy: 0.8056\n",
      "Epoch 68/100\n",
      "35/35 [==============================] - 0s 11ms/step - loss: 0.0117 - accuracy: 1.0000 - val_loss: 1.1742 - val_accuracy: 0.8056\n",
      "Epoch 69/100\n",
      "35/35 [==============================] - 0s 11ms/step - loss: 0.0113 - accuracy: 1.0000 - val_loss: 1.1994 - val_accuracy: 0.8056\n",
      "Epoch 70/100\n",
      "35/35 [==============================] - 0s 12ms/step - loss: 0.0113 - accuracy: 1.0000 - val_loss: 1.1756 - val_accuracy: 0.8056\n",
      "Epoch 71/100\n",
      "35/35 [==============================] - 0s 11ms/step - loss: 0.0112 - accuracy: 1.0000 - val_loss: 1.1452 - val_accuracy: 0.8056\n",
      "Epoch 72/100\n",
      "35/35 [==============================] - 0s 11ms/step - loss: 0.0108 - accuracy: 1.0000 - val_loss: 1.1928 - val_accuracy: 0.8056\n",
      "Epoch 73/100\n",
      "35/35 [==============================] - 0s 11ms/step - loss: 0.0111 - accuracy: 1.0000 - val_loss: 1.1731 - val_accuracy: 0.8056\n",
      "Epoch 74/100\n",
      "35/35 [==============================] - 0s 11ms/step - loss: 0.0108 - accuracy: 1.0000 - val_loss: 1.1448 - val_accuracy: 0.8056\n",
      "Epoch 75/100\n",
      "35/35 [==============================] - 0s 13ms/step - loss: 0.0109 - accuracy: 1.0000 - val_loss: 1.1700 - val_accuracy: 0.8056\n",
      "Epoch 76/100\n",
      "35/35 [==============================] - 0s 11ms/step - loss: 0.0109 - accuracy: 1.0000 - val_loss: 1.1721 - val_accuracy: 0.8056\n",
      "Epoch 77/100\n",
      "35/35 [==============================] - 0s 10ms/step - loss: 0.0105 - accuracy: 1.0000 - val_loss: 1.1856 - val_accuracy: 0.8056\n",
      "Epoch 78/100\n",
      "35/35 [==============================] - 0s 11ms/step - loss: 0.0103 - accuracy: 1.0000 - val_loss: 1.1668 - val_accuracy: 0.8056\n",
      "Epoch 79/100\n",
      "35/35 [==============================] - 0s 10ms/step - loss: 0.0103 - accuracy: 1.0000 - val_loss: 1.2234 - val_accuracy: 0.8056\n",
      "Epoch 80/100\n",
      "35/35 [==============================] - 0s 10ms/step - loss: 0.0102 - accuracy: 1.0000 - val_loss: 1.1684 - val_accuracy: 0.8056\n",
      "Epoch 81/100\n",
      "35/35 [==============================] - 0s 10ms/step - loss: 0.0101 - accuracy: 1.0000 - val_loss: 1.2191 - val_accuracy: 0.8056\n",
      "Epoch 82/100\n",
      "35/35 [==============================] - 0s 11ms/step - loss: 0.0100 - accuracy: 1.0000 - val_loss: 1.1911 - val_accuracy: 0.8056\n",
      "Epoch 83/100\n",
      "35/35 [==============================] - 0s 11ms/step - loss: 0.0099 - accuracy: 1.0000 - val_loss: 1.2017 - val_accuracy: 0.8056\n",
      "Epoch 84/100\n",
      "35/35 [==============================] - 0s 11ms/step - loss: 0.0099 - accuracy: 1.0000 - val_loss: 1.2167 - val_accuracy: 0.8056\n",
      "Epoch 85/100\n",
      "35/35 [==============================] - 0s 11ms/step - loss: 0.0098 - accuracy: 1.0000 - val_loss: 1.2113 - val_accuracy: 0.8056\n",
      "Epoch 86/100\n",
      "35/35 [==============================] - 0s 11ms/step - loss: 0.0096 - accuracy: 1.0000 - val_loss: 1.1906 - val_accuracy: 0.8056\n",
      "Epoch 87/100\n",
      "35/35 [==============================] - 0s 11ms/step - loss: 0.0096 - accuracy: 1.0000 - val_loss: 1.1787 - val_accuracy: 0.8056\n",
      "Epoch 88/100\n",
      "35/35 [==============================] - 0s 11ms/step - loss: 0.0096 - accuracy: 1.0000 - val_loss: 1.1812 - val_accuracy: 0.8056\n",
      "Epoch 89/100\n",
      "35/35 [==============================] - 0s 11ms/step - loss: 0.0096 - accuracy: 1.0000 - val_loss: 1.2229 - val_accuracy: 0.8056\n",
      "Epoch 90/100\n",
      "35/35 [==============================] - 0s 11ms/step - loss: 0.0097 - accuracy: 1.0000 - val_loss: 1.2308 - val_accuracy: 0.8056\n",
      "Epoch 91/100\n",
      "35/35 [==============================] - 0s 13ms/step - loss: 0.0092 - accuracy: 1.0000 - val_loss: 1.2186 - val_accuracy: 0.8056\n",
      "Epoch 92/100\n",
      "35/35 [==============================] - 0s 11ms/step - loss: 0.0090 - accuracy: 1.0000 - val_loss: 1.2134 - val_accuracy: 0.8056\n",
      "Epoch 93/100\n",
      "35/35 [==============================] - 0s 11ms/step - loss: 0.0091 - accuracy: 1.0000 - val_loss: 1.2200 - val_accuracy: 0.8056\n",
      "Epoch 94/100\n",
      "35/35 [==============================] - 0s 12ms/step - loss: 0.0094 - accuracy: 1.0000 - val_loss: 1.1825 - val_accuracy: 0.8056\n",
      "Epoch 95/100\n",
      "35/35 [==============================] - 0s 13ms/step - loss: 0.0093 - accuracy: 1.0000 - val_loss: 1.1814 - val_accuracy: 0.8056\n",
      "Epoch 96/100\n",
      "35/35 [==============================] - 0s 13ms/step - loss: 0.0088 - accuracy: 1.0000 - val_loss: 1.2241 - val_accuracy: 0.8056\n",
      "Epoch 97/100\n",
      "35/35 [==============================] - 0s 11ms/step - loss: 0.0086 - accuracy: 1.0000 - val_loss: 1.2227 - val_accuracy: 0.8056\n",
      "Epoch 98/100\n",
      "35/35 [==============================] - 0s 11ms/step - loss: 0.0086 - accuracy: 1.0000 - val_loss: 1.2083 - val_accuracy: 0.8056\n",
      "Epoch 99/100\n",
      "35/35 [==============================] - 0s 11ms/step - loss: 0.0085 - accuracy: 1.0000 - val_loss: 1.1806 - val_accuracy: 0.8056\n",
      "Epoch 100/100\n",
      "35/35 [==============================] - 0s 11ms/step - loss: 0.0085 - accuracy: 1.0000 - val_loss: 1.2167 - val_accuracy: 0.8056\n",
      "\n",
      "1/1 [==============================] - 0s 287ms/step - loss: 0.2599 - accuracy: 0.9062\n",
      "\n",
      "Test accuracy: 0.90625\n",
      "Test loss: 0.25985029339790344\n"
     ]
    }
   ],
   "source": [
    "history = network.fit(\n",
    "                      X_train, y_train, validation_split=0.2, \n",
    "                      epochs=100, batch_size=4, shuffle=True,)\n",
    "\n",
    "print()\n",
    "test_loss, test_acc = network.evaluate(X_test, y_test)\n",
    "\n",
    "print()\n",
    "print('Test accuracy:', test_acc)\n",
    "print('Test loss:', test_loss)"
   ]
  },
  {
   "cell_type": "markdown",
   "id": "639a1fe3",
   "metadata": {},
   "source": [
    "We can plot our training and loss graph to visualize the performance"
   ]
  },
  {
   "cell_type": "code",
   "execution_count": 44,
   "id": "9cb9b5ba",
   "metadata": {},
   "outputs": [],
   "source": [
    "history_dict = history.history\n",
    "loss_values = history_dict['loss']\n",
    "val_loss_values = history_dict['val_loss']\n",
    "epochs = range(1, len(loss_values) + 1)\n",
    "\n",
    "acc_values = history_dict['accuracy']\n",
    "val_acc_values = history_dict['val_accuracy']\n",
    "\n"
   ]
  },
  {
   "cell_type": "code",
   "execution_count": 67,
   "id": "b5c6504d",
   "metadata": {},
   "outputs": [
    {
     "data": {
      "image/png": "[encoded data removed]",
      "text/plain": [
       "<Figure size 432x288 with 1 Axes>"
      ]
     },
     "metadata": {
      "needs_background": "light"
     },
     "output_type": "display_data"
    }
   ],
   "source": [
    "#To show training and Validation loss over epoch\n",
    "\n",
    "\n",
    "def plot_accuracy(history):\n",
    "    training_acc = history.history['loss']\n",
    "    validation_acc = history.history['val_loss']\n",
    "    x=epochs\n",
    "    plt.plot(x, acc_values, label='Training acc')\n",
    "    plt.plot(x, val_acc_values,color='red', label='Validation acc')\n",
    "    plt.xlabel('Epoch')\n",
    "    plt.ylabel('Loss')\n",
    "    plt.title('Training and Validation Accuracy')\n",
    "    plt.legend()\n",
    "    \n",
    "plot_accuracy(history)  "
   ]
  },
  {
   "cell_type": "code",
   "execution_count": 65,
   "id": "c41442d6",
   "metadata": {},
   "outputs": [
    {
     "data": {
      "image/png": "[encoded data removed]",
      "text/plain": [
       "<Figure size 432x288 with 1 Axes>"
      ]
     },
     "metadata": {
      "needs_background": "light"
     },
     "output_type": "display_data"
    }
   ],
   "source": [
    "#To show training and Validation accuracy over epoch\n",
    "\n",
    "def plot_loss(history):\n",
    "    train_loss = history.history['loss']\n",
    "    test_loss = history.history['val_loss']\n",
    "    x = list(range(1, len(test_loss) + 1))\n",
    "    plt.plot(x, test_loss, color='red', label='Validation loss')\n",
    "    plt.plot(x, train_loss, label='Training loss')\n",
    "    plt.xlabel('Epoch')\n",
    "    plt.ylabel('Loss')\n",
    "    plt.title('Training and Validation Loss')\n",
    "    plt.legend()\n",
    "    \n",
    "plot_loss(history)  "
   ]
  },
  {
   "cell_type": "code",
   "execution_count": null,
   "id": "bb4181bb",
   "metadata": {},
   "outputs": [],
   "source": []
  }
 ],
 "metadata": {
  "kernelspec": {
   "display_name": "Python 3 (ipykernel)",
   "language": "python",
   "name": "python3"
  },
  "language_info": {
   "codemirror_mode": {
    "name": "ipython",
    "version": 3
   },
   "file_extension": ".py",
   "mimetype": "text/x-python",
   "name": "python",
   "nbconvert_exporter": "python",
   "pygments_lexer": "ipython3",
   "version": "3.8.12"
  }
 },
 "nbformat": 4,
 "nbformat_minor": 5
}
